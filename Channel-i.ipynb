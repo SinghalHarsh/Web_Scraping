{
 "cells": [
  {
   "cell_type": "code",
   "execution_count": 2,
   "metadata": {
    "collapsed": true
   },
   "outputs": [],
   "source": [
    "from bs4 import BeautifulSoup\n",
    "import requests\n",
    "\n",
    "import pandas as pd"
   ]
  },
  {
   "cell_type": "code",
   "execution_count": 17,
   "metadata": {
    "collapsed": false
   },
   "outputs": [],
   "source": [
    "from lxml import html"
   ]
  },
  {
   "cell_type": "code",
   "execution_count": null,
   "metadata": {
    "collapsed": true
   },
   "outputs": [],
   "source": [
    "session_requests = requests.session()"
   ]
  },
  {
   "cell_type": "code",
   "execution_count": null,
   "metadata": {
    "collapsed": true
   },
   "outputs": [],
   "source": [
    "payload = {\n",
    "\"username\": \"14112037\", \n",
    "\"password\": \"Harsh726\", \n",
    "\"csrfmiddlewaretoken\": \"<CSRF_TOKEN>\"\n",
    "}"
   ]
  },
  {
   "cell_type": "code",
   "execution_count": 3,
   "metadata": {
    "collapsed": true
   },
   "outputs": [],
   "source": [
    "result = requests.get(url)\n",
    "c=result.content"
   ]
  },
  {
   "cell_type": "code",
   "execution_count": 4,
   "metadata": {
    "collapsed": false
   },
   "outputs": [
    {
     "name": "stderr",
     "output_type": "stream",
     "text": [
      "C:\\Users\\HARSH\\Anaconda3\\lib\\site-packages\\bs4\\__init__.py:181: UserWarning: No parser was explicitly specified, so I'm using the best available HTML parser for this system (\"lxml\"). This usually isn't a problem, but if you run this code on another system, or in a different virtual environment, it may use a different parser and behave differently.\n",
      "\n",
      "The code that caused this warning is on line 184 of the file C:\\Users\\HARSH\\Anaconda3\\lib\\runpy.py. To get rid of this warning, change code that looks like this:\n",
      "\n",
      " BeautifulSoup([your markup])\n",
      "\n",
      "to this:\n",
      "\n",
      " BeautifulSoup([your markup], \"lxml\")\n",
      "\n",
      "  markup_type=markup_type))\n"
     ]
    }
   ],
   "source": [
    "soup=BeautifulSoup(c)"
   ]
  },
  {
   "cell_type": "code",
   "execution_count": 20,
   "metadata": {
    "collapsed": true
   },
   "outputs": [],
   "source": [
    "tables = soup.find(\"div\")"
   ]
  },
  {
   "cell_type": "code",
   "execution_count": 21,
   "metadata": {
    "collapsed": false
   },
   "outputs": [
    {
     "data": {
      "text/plain": [
       "<body>\n",
       "<div id=\"header\">\n",
       "<div id=\"header_link_wrapper\">\n",
       "<a class=\"header_link\" href=\"http://mgcl.iitr.ac.in\" target=\"_blank\">Library</a>\n",
       "<a class=\"header_link\" href=\"http://mail.iitr.ac.in/iwc\" target=\"_blank\">Webmail</a>\n",
       "<a class=\"header_link\" href=\"/notices/\" target=\"_blank\">Notice-Board</a>\n",
       "<a class=\"header_link\" href=\"http://www.iitr.ac.in\" target=\"_blank\">IITR Home</a>\n",
       "<a class=\"header_link\" href=\"http://www.iitr.ac.in/centers/ISC/pages/Antivirus_Solution_for_Campus.html\" target=\"_blank\">Anti virus</a>\n",
       "</div>\n",
       "</div>\n",
       "<div id=\"container\">\n",
       "<div id=\"lower_main\">\n",
       "<div id=\"logo_wrapper\">\n",
       "<a href=\"/\" id=\"logo\"></a>\n",
       "<div id=\"tagline\">It's everything you need it to be.</div>\n",
       "</div>\n",
       "<div id=\"messages-div\">\n",
       "</div>\n",
       "<div id=\"main_body_wrapper\">\n",
       "<a href=\"/SHP/\"><div id=\"display_space\"></div></a>\n",
       "<div id=\"login_area\">\n",
       "<div id=\"login_boxes\">\n",
       "<form action=\"/login/?next=/placement/results/branch/\" id=\"login-form\" method=\"POST\"><input name=\"csrfmiddlewaretoken\" type=\"hidden\" value=\"l9IMFYJwZkSioqj6QLcuXTfSv3pnXTe3\"/>\n",
       "<div class=\"input-wrapper\" id=\"username_space\">\n",
       "<input autofocus=\"true\" name=\"username\" placeholder=\"Username\" type=\"text\"/>\n",
       "</div>\n",
       "<div class=\"input-wrapper\" id=\"password_space\">\n",
       "<input name=\"password\" placeholder=\"Password\" type=\"password\"/>\n",
       "</div>\n",
       "<div class=\"checkbox-wrapper\" id=\"password_space\"><label for=\"id_remember_me\">Stay signed in:   </label><input checked=\"checked\" id=\"id_remember_me\" name=\"remember_me\" type=\"checkbox\"/></div>\n",
       "<input class=\"input-button\" id=\"sign_in_button\" type=\"submit\" value=\"Sign in\"/>\n",
       "</form>\n",
       "</div>\n",
       "<div id=\"helptext\">\n",
       "<span onclick=\"login_help();\">Having trouble signing in ?</span><br/><br/>\n",
       "</div>\n",
       "</div>\n",
       "</div>\n",
       "</div>\n",
       "<div id=\"footer-wrapper\">\n",
       "<div id=\"footer\">\n",
       "<div id=\"footer-copyright\">\n",
       "     © 2017 <a href=\"http://img.channeli.in\" target=\"_blank\" title=\"Information Management Group\">IMG, IIT Roorkee</a>\n",
       "</div>\n",
       "<!--div class=\"fb-like\"\n",
       "    data-href=\"http://www.facebook.com/IMGIITRoorkee?ref=hl\"\n",
       "    data-send=\"false\" data-layout=\"button_count\" data-width=\"450\"\n",
       "    data-show-faces=\"true\" data-font=\"arial\" ></div-->\n",
       "<div id=\"footer-links\">\n",
       "<a class=\"footer-link\" href=\"/terms/\" target=\"_blank\">Terms of Use</a>\n",
       "<a class=\"footer-link\" href=\"/about/\" style=\"margin-left:0px\" target=\"_blank\">About Channel i</a>\n",
       "</div>\n",
       "</div>\n",
       "<div id=\"fb-root\"></div>\n",
       "<!--script>\n",
       "  (function(d, s, id) {\n",
       "    var js, fjs = d.getElementsByTagName(s)[0];\n",
       "    if (d.getElementById(id)) return;\n",
       "    js = d.createElement(s); js.id = id;\n",
       "    js.src = \"//connect.facebook.net/en_US/all.js#xfbml=1\";\n",
       "    fjs.parentNode.insertBefore(js, fjs);\n",
       "  }(document, 'script', 'facebook-jssdk'));\n",
       "</script-->\n",
       "</div>\n",
       "</div>\n",
       "<!--[if IE]>\n",
       "      <script type=\"text/javascript\" src=\"https://channeli.in:8080/static/js/es5-shim.min.js\"></script>\n",
       "    <![endif]-->\n",
       "<script type=\"text/javascript\">\n",
       "\t\tSTATIC_URL = 'https://channeli.in:8080/static/';\n",
       "\t</script>\n",
       "<script src=\"https://channeli.in:8080/static/jquery/jquery.min.js?v=2.5\" type=\"text/javascript\"></script>\n",
       "<script src=\"https://channeli.in:8080/static/jquery/jquery-ui.min.js\" type=\"text/javascript\"></script>\n",
       "<script src=\"https://channeli.in:8080/static/jquery/modernizr.js\" type=\"text/javascript\"></script>\n",
       "<script src=\"https://channeli.in:8080/static/js/common.js\" type=\"text/javascript\"></script>\n",
       "<script type=\"text/javascript\">\n",
       "    var user = {is_authenticated: false};\n",
       "    $(document).ready(function(){\n",
       "      if(location.hash){\n",
       "        var action_url = $('#login-form').attr('action');\n",
       "        $('#login-form').attr('action', action_url + location.hash);\n",
       "      }\n",
       "      display_messages([]);\n",
       "      $('[autofocus]').focus();\n",
       "      if (!Modernizr.input.placeholder){\n",
       "        $('[placeholder]').focus(function(){\n",
       "          var input = $(this);\n",
       "          if (input.val() == input.attr('placeholder')){\n",
       "            input.val('');\n",
       "            input.removeClass('placeholder');\n",
       "          }\n",
       "        }).blur(function(){\n",
       "            var input = $(this);\n",
       "            if (input.val() == '' || input.val() == input.attr('placeholder')){\n",
       "              input.addClass('placeholder');\n",
       "              input.val(input.attr('placeholder'));\n",
       "            }\n",
       "          }).blur();\n",
       "        $('[placeholder]').parents('form').submit(function() {\n",
       "          $(this).find('[placeholder]').each(function() {\n",
       "            var input = $(this);\n",
       "            if (input.val() == input.attr('placeholder')) {\n",
       "              input.val('');\n",
       "            }\n",
       "          })\n",
       "        });\n",
       "      }\n",
       "    });\n",
       "    function login_help(){\n",
       "      var username = $('input[name=username]').val();\n",
       "      var fun = dialog_iframe;\n",
       "      \n",
       "      fun({\n",
       "        name:'login_help_dialog',\n",
       "        title:'Having trouble signing in ?',\n",
       "        width:800,\n",
       "        height:500,\n",
       "        src:'/helpcenter/login_help/'+(username?username+'/':'')\n",
       "      });\n",
       "    }\n",
       "  </script>\n",
       "<script src=\"https://channeli.in:8080/static/js/piwik.js\" type=\"text/javascript\"></script>\n",
       "</body>"
      ]
     },
     "execution_count": 21,
     "metadata": {},
     "output_type": "execute_result"
    }
   ],
   "source": [
    "tables"
   ]
  },
  {
   "cell_type": "code",
   "execution_count": null,
   "metadata": {
    "collapsed": true
   },
   "outputs": [],
   "source": []
  },
  {
   "cell_type": "code",
   "execution_count": null,
   "metadata": {
    "collapsed": true
   },
   "outputs": [],
   "source": []
  }
 ],
 "metadata": {
  "anaconda-cloud": {},
  "kernelspec": {
   "display_name": "Python [conda root]",
   "language": "python",
   "name": "conda-root-py"
  },
  "language_info": {
   "codemirror_mode": {
    "name": "ipython",
    "version": 3
   },
   "file_extension": ".py",
   "mimetype": "text/x-python",
   "name": "python",
   "nbconvert_exporter": "python",
   "pygments_lexer": "ipython3",
   "version": "3.5.2"
  }
 },
 "nbformat": 4,
 "nbformat_minor": 1
}
